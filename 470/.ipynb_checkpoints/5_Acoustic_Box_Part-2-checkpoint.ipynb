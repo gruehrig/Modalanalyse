{
 "cells": [
  {
   "cell_type": "markdown",
   "metadata": {
    "deletable": false,
    "editable": false,
    "nbgrader": {
     "cell_type": "markdown",
     "checksum": "b719d5a743dd214e5399f57cdd194d08",
     "grade": false,
     "grade_id": "cell-a73502991cf530a8",
     "locked": true,
     "schema_version": 3,
     "solution": false,
     "task": false
    }
   },
   "source": [
    "# 5 | Acoustic-Box Part 2 – Practice and Exercise\n",
    "\n",
    "__Practice__\n",
    "\n",
    "The practice part should help you to additionally prepare for the workshops and the exercises by covering the contents of the lecture, containing additional minor tasks and questions. The solutions of these minor tasks of the practice part will not be graded, but questions regarding the following contents are addressed in the workshops. It is therefore recommended that you are able to address the presented tasks and questions, since answers to questions during the workshops are part of the participation grade.\n",
    "\n",
    "__Exercise__\n",
    "\n",
    "The assignments of the exercise part are explicitly labeled with \"Title of assignement (Exercise)\". The solutions of the exercise assignments will be graded. Some of the tasks (mostly implementation tasks) will be automatically graded with validation tests, make sure that your code can be executed without error messages (it doesn't guarantee that your submitted solutions are correct).\n",
    "\n",
    "__Lab-experiment and setup__\n",
    "\n",
    "Exercise and Practice 5 continue part 4, you could reuse your implementations and solutions from some of the previous tasks, if necessary.\n",
    "\n",
    "__Note: Write down your group name including group members and give a short statement on the distribution of the work in the markdown cell below.__"
   ]
  },
  {
   "cell_type": "markdown",
   "metadata": {
    "deletable": false,
    "nbgrader": {
     "cell_type": "markdown",
     "checksum": "7de68cc5bf22df32ef10771a1b3357df",
     "grade": true,
     "grade_id": "cell-0a81c5a62aab3161",
     "locked": false,
     "points": 0,
     "schema_version": 3,
     "solution": true,
     "task": false
    },
    "revert": "YOUR ANSWER HERE"
   },
   "source": [
    "YOUR ANSWER HERE"
   ]
  },
  {
   "cell_type": "code",
   "execution_count": null,
   "metadata": {
    "deletable": false,
    "editable": false,
    "nbgrader": {
     "cell_type": "code",
     "checksum": "9196a81043b124205ac8ecd029b0d2f9",
     "grade": false,
     "grade_id": "cell-9537ec050b0d1ae0",
     "locked": true,
     "schema_version": 3,
     "solution": false,
     "task": false
    }
   },
   "outputs": [],
   "source": [
    "# import necessary modules\n",
    "\n",
    "import numpy as np\n",
    "\n",
    "# to prevent warning from matplotlib\n",
    "import os\n",
    "#os.environ['MPLCONFIGDIR'] = '/tmp'\n",
    "\n",
    "import matplotlib.pyplot as plt\n",
    "%matplotlib inline\n",
    "\n",
    "from os import listdir"
   ]
  },
  {
   "cell_type": "markdown",
   "metadata": {
    "deletable": false,
    "editable": false,
    "nbgrader": {
     "cell_type": "markdown",
     "checksum": "c6eadb0eacdca7147fd3454bacd3fdb1",
     "grade": false,
     "grade_id": "cell-6291b4b2449bf966",
     "locked": true,
     "schema_version": 3,
     "solution": false,
     "task": false
    }
   },
   "source": [
    "## 1 Load and display the FRFs\n",
    "\n",
    "Load all FRFs calculated in Exercise 4 into your workspace or calculate them again.\n",
    "\n",
    "**Task:** Calculate the __averaged FRFs__ of __all__ excitation points (EX). Use the code from the previous exercise and paste it below!"
   ]
  },
  {
   "cell_type": "code",
   "execution_count": null,
   "metadata": {
    "deletable": false,
    "nbgrader": {
     "cell_type": "code",
     "checksum": "d541e065bd5f61937091f30e3f7067f7",
     "grade": false,
     "grade_id": "cell-946d9bc3ac4113e4",
     "locked": false,
     "schema_version": 3,
     "solution": true,
     "task": false
    },
    "revert": "# paste the functions for reading in the data here\n\n# YOUR CODE HERE\nraise NotImplementedError()"
   },
   "outputs": [],
   "source": [
    "# paste the functions for reading in the data here\n",
    "\n",
    "# YOUR CODE HERE\n",
    "def read_labview_txt(file_path):\n",
    "\n",
    "    '''\n",
    "    input:\n",
    "        file_path ... path of the labview measurement data file\n",
    "    \n",
    "    output:\n",
    "        data ... Read data as list of lists in the format [t, F, a], t ... time in second, F ... force sensor output signal in V, a ... acceleration sensor output signal in V\n",
    "    '''\n",
    "    # YOUR CODE HERE\n",
    "    with open(filepath, 'r') as f:\n",
    "        # Skip header lines\n",
    "        for _ in range(23):\n",
    "            next(f)\n",
    "\n",
    "\n",
    "        time = []\n",
    "        force = []\n",
    "        acc = []\n",
    "\n",
    "        for line in f:\n",
    "            v = line.strip().split('\\t')\n",
    "            if len(v) < 3:\n",
    "                continue\n",
    "            try:\n",
    "                # Replace commas with dots and convert to float\n",
    "                t_val = float(v[0].replace(',', '.'))\n",
    "                f_val = float(v[1].replace(',', '.'))\n",
    "                a_val = float(v[2].replace(',', '.'))\n",
    "\n",
    "                time.append(t_val)\n",
    "                force.append(f_val)\n",
    "                acc.append(a_val)\n",
    "            except ValueError:\n",
    "                continue\n",
    "\n",
    "    data = [np.array(time), np.array(force), np.array(acc)]\n",
    "    \n",
    "\n",
    "    \n",
    "    # Return the read data as a list of different data series [t,F,a]\n",
    "    return data"
   ]
  },
  {
   "cell_type": "code",
   "execution_count": null,
   "metadata": {
    "deletable": false,
    "nbgrader": {
     "cell_type": "code",
     "checksum": "82d8899a0e6100eff72cbb5ea27cec4c",
     "grade": false,
     "grade_id": "cell-e13600d46b663d3c",
     "locked": false,
     "schema_version": 3,
     "solution": true,
     "task": false
    },
    "revert": "# Define important measurement parameters\n\n# Gain on the Force channel\nGAIN_F = 0\n# YOUR CODE HERE\nraise NotImplementedError()\n\n# Gain on the Acceleration channel\nGain_A = 0\n# YOUR CODE HERE\nraise NotImplementedError()\n\n\n# Sampling rate of the measurement\nSAMPLING_RATE = 0\n# YOUR CODE HERE\nraise NotImplementedError()"
   },
   "outputs": [],
   "source": [
    "# Define important measurement parameters\n",
    "\n",
    "# Gain on the Force channel\n",
    "GAIN_F = 0\n",
    "# YOUR CODE HERE\n",
    "GAIN_F = 0.1\n",
    "\n",
    "# Gain on the Acceleration channel\n",
    "Gain_A = 0\n",
    "# YOUR CODE HERE\n",
    "Gain_A = 0.01\n",
    "\n",
    "\n",
    "# Sampling rate of the measurement\n",
    "SAMPLING_RATE = 0\n",
    "# YOUR CODE HERE\n",
    "SAMPLING_RATE = 50000"
   ]
  },
  {
   "cell_type": "code",
   "execution_count": null,
   "metadata": {
    "deletable": false,
    "nbgrader": {
     "cell_type": "code",
     "checksum": "30fda7622ea00e3a1c84ff9244a7e93b",
     "grade": false,
     "grade_id": "cell-9e8a1d29a2611072",
     "locked": false,
     "schema_version": 3,
     "solution": true,
     "task": false
    },
    "revert": "# Create a python dictionary to store the measurement data sorted by excitaton point 1_1, 1_2, ... , 6_3, 6_4\ndata = dict()\ndir = \"Data/filtered_data/\"\ndir_51 = \"Data/5_1_data/\"\n\n# YOUR CODE HERE\nraise NotImplementedError()"
   },
   "outputs": [],
   "source": [
    "# Create a python dictionary to store the measurement data sorted by excitaton point 1_1, 1_2, ... , 6_3, 6_4\n",
    "from operator import itemgetter\n",
    "\n",
    "data = dict()\n",
    "dir_filtered = \"Data/filtered_data/\"\n",
    "dir_5_1 = \"Data/5_1_data/\"\n",
    "\n",
    "# Assume these are defined elsewhere:\n",
    "# GAIN_F = ...\n",
    "# Gain_A = ...\n",
    "# def read_labview_txt(filepath): ...\n",
    "\n",
    "# --- 1. Load all files from filtered_data ---\n",
    "for filename in os.listdir(dir_filtered):\n",
    "    if filename.endswith(\".txt\") and \"Ex-\" in filename:\n",
    "        excitation_point = filename.split(\"Ex-\")[-1].replace(\".txt\", \"\").strip()\n",
    "        filepath = os.path.join(dir_filtered, filename)\n",
    "\n",
    "        try:\n",
    "            t, f, a = read_labview_txt(filepath)\n",
    "            f /= GAIN_F\n",
    "            a /= Gain_A\n",
    "\n",
    "            if excitation_point not in data:\n",
    "                data[excitation_point] = []\n",
    "            data[excitation_point].append((t, f, a))\n",
    "\n",
    "        except Exception as e:\n",
    "            print(f\"Error processing {filename}: {str(e)}\")\n",
    "\n",
    "# --- 2. Load ONLY files with indices [0, 1, 5, 7] from 5_1_data ---\n",
    "selected_indices = [0, 1, 5, 7]\n",
    "data[\"5_1\"] = []\n",
    "\n",
    "# Get sorted list of files (to make indices meaningful)\n",
    "files_5_1 = sorted([f for f in os.listdir(dir_5_1) if f.endswith(\".txt\")])\n",
    "\n",
    "for idx in selected_indices:\n",
    "    if idx < len(files_5_1):\n",
    "        filename = files_5_1[idx]\n",
    "        filepath = os.path.join(dir_5_1, filename)\n",
    "\n",
    "        try:\n",
    "            t, f, a = read_labview_txt(filepath)\n",
    "            f /= GAIN_F\n",
    "            a /= Gain_A\n",
    "\n",
    "            data[\"5_1\"].append((t, f, a))\n",
    "\n",
    "        except Exception as e:\n",
    "            print(f\"Error processing 5_1 file {filename}: {str(e)}\")\n",
    "    else:\n",
    "        print(f\"Index {idx} out of range for files in 5_1_data.\")\n",
    "\n",
    "# --- 3. Print summary ---\n",
    "for key in sorted(data.keys()):\n",
    "    print(f\"{key} Count: {len(data[key])}\")"
   ]
  },
  {
   "cell_type": "markdown",
   "metadata": {
    "deletable": false,
    "editable": false,
    "nbgrader": {
     "cell_type": "markdown",
     "checksum": "2785fde0ce69f8830ea6cc26a8ea1a08",
     "grade": false,
     "grade_id": "cell-626428e17ff8016b",
     "locked": true,
     "schema_version": 3,
     "solution": false,
     "task": false
    }
   },
   "source": [
    "__Task:__ Transform the time signal data in the frequency domain using FFT.\n",
    "\n",
    "__Hints:__ Don't forget to properly scale the FFT amplitude. (Rule: Mulitply the FFT amplitude by 2 and divide by the sample length)"
   ]
  },
  {
   "cell_type": "code",
   "execution_count": null,
   "metadata": {
    "deletable": false,
    "nbgrader": {
     "cell_type": "code",
     "checksum": "a222d1c7a27085f5d70fa713ac280ce4",
     "grade": false,
     "grade_id": "cell-5b6ed6d5760f7dc1",
     "locked": false,
     "schema_version": 3,
     "solution": true,
     "task": false
    },
    "revert": "# fourier transfrom the time signal data\n\nfft_data = dict()\nshape = (13001,4)\n\n# YOUR CODE HERE\nraise NotImplementedError()"
   },
   "outputs": [],
   "source": [
    "# fourier transfrom the time signal data\n",
    "\n",
    "fft_data = dict()\n",
    "shape = (13001,4)\n",
    "\n",
    "# YOUR CODE HERE\n",
    "def compute_fft_data(data, sampling_rate,t):\n",
    "    fft_data = dict()\n",
    "\n",
    "    for key, datasets in data.items():\n",
    "        # Determine number of samples for 0.2s\n",
    "        t_example = datasets[0][0]\n",
    "        N = len(t)\n",
    "        n_freq = N // 2 + 1\n",
    "        freq = np.fft.rfftfreq(N, d=1 / sampling_rate)\n",
    "        omega_sq = (2 * np.pi * freq) ** 2\n",
    "        omega_sq[omega_sq == 0] = 1e-12  # avoid divide-by-zero\n",
    "\n",
    "        fft_force = np.zeros((n_freq, len(datasets)), dtype=np.complex_)\n",
    "        fft_acc = np.zeros((n_freq, len(datasets)), dtype=np.complex_)\n",
    "        accelerance = np.zeros((n_freq, len(datasets)), dtype=np.complex_)\n",
    "        receptance = np.zeros((n_freq, len(datasets)), dtype=np.complex_)\n",
    "\n",
    "        for i, (t, f, a) in enumerate(datasets):\n",
    "            # Slice signals to length N\n",
    "            f_fft =2* np.fft.rfft(f[:N])/N\n",
    "            a_fft = 2*np.fft.rfft(a[:N])/N\n",
    "\n",
    "            fft_force[:, i] = f_fft\n",
    "            fft_acc[:, i] = a_fft\n",
    "\n",
    "            with np.errstate(divide='ignore', invalid='ignore'):\n",
    "                acc = np.zeros_like(a_fft)\n",
    "                rec = np.zeros_like(a_fft)\n",
    "\n",
    "                acc[f_fft != 0] = a_fft[f_fft != 0] / f_fft[f_fft != 0]\n",
    "                denom = omega_sq * f_fft\n",
    "                rec[denom != 0] = a_fft[denom != 0] / -denom[denom != 0]\n",
    "\n",
    "                accelerance[:, i] = acc\n",
    "                receptance[:, i] = rec\n",
    "\n",
    "        fft_data[key] = {\n",
    "            'force_fft': fft_force,\n",
    "            'acc_fft': fft_acc,\n",
    "            'accelerance': accelerance,\n",
    "            'receptance': receptance\n",
    "        }\n",
    "\n",
    "    return fft_data, freq\n",
    "\n",
    "fft_data, freq = compute_fft_data(data, SAMPLING_RATE,t)"
   ]
  },
  {
   "cell_type": "markdown",
   "metadata": {
    "deletable": false,
    "editable": false,
    "nbgrader": {
     "cell_type": "markdown",
     "checksum": "dfe2faa327c34ce78690e17bd04f0d0f",
     "grade": false,
     "grade_id": "cell-9b8524242220127f",
     "locked": true,
     "schema_version": 3,
     "solution": false,
     "task": false
    }
   },
   "source": [
    "__Task:__ Compute the average FRFs by taking the average of the FFT signals"
   ]
  },
  {
   "cell_type": "code",
   "execution_count": null,
   "metadata": {
    "deletable": false,
    "nbgrader": {
     "cell_type": "code",
     "checksum": "f403b8658a85c56cc61a8d47b10f9640",
     "grade": false,
     "grade_id": "cell-86264cf44a94907c",
     "locked": false,
     "schema_version": 3,
     "solution": true,
     "task": false
    },
    "revert": "# compute average FRFs and store it as python dictionary\n\nfft_data_avg = dict()\n\n# YOUR CODE HERE\nraise NotImplementedError()"
   },
   "outputs": [],
   "source": [
    "# compute average FRFs and store it as python dictionary\n",
    "\n",
    "fft_data_avg = dict()\n",
    "\n",
    "# YOUR CODE HERE\n",
    "def average_fft_data(fft_data):\n",
    "    \"\"\"\n",
    "    Computes the average accelerance and receptance over 4 measurements\n",
    "    for each excitation point.\n",
    "\n",
    "    Parameters:\n",
    "    - fft_data: dict with keys as excitation points and values containing:\n",
    "        - 'accelerance': ndarray of shape (n_freq, 4)\n",
    "        - 'receptance': ndarray of shape (n_freq, 4)\n",
    "\n",
    "    Returns:\n",
    "    - fft_data_avg: dict with averaged accelerance and receptance\n",
    "    - frf_avg: dict (flat structure) with same averaged data\n",
    "    \"\"\"\n",
    "    fft_data_avg = {}\n",
    "    frf_avg = {}\n",
    "\n",
    "    for key in fft_data:\n",
    "        accel = fft_data[key]['accelerance']   # shape: (n_freq, 4)\n",
    "        recep = fft_data[key]['receptance']    # shape: (n_freq, 4)\n",
    "\n",
    "        avg_accel = np.mean(accel, axis=1)     # shape: (n_freq,)\n",
    "        avg_recep = np.mean(recep, axis=1)     # shape: (n_freq,)\n",
    "\n",
    "        fft_data_avg[key] = {\n",
    "            'accelerance_avg': avg_accel,\n",
    "            'receptance_avg': avg_recep\n",
    "        }\n",
    "\n",
    "        frf_avg[key] = {\n",
    "            'accelerance': avg_accel,\n",
    "            'receptance': avg_recep\n",
    "        }\n",
    "\n",
    "    return fft_data_avg, frf_avg\n",
    "\n",
    "fft_data_avg, frf_avg = average_fft_data(fft_data)"
   ]
  },
  {
   "cell_type": "markdown",
   "metadata": {
    "deletable": false,
    "editable": false,
    "nbgrader": {
     "cell_type": "markdown",
     "checksum": "cd30ed6f46119b0954d7174025862fe8",
     "grade": false,
     "grade_id": "cell-c9a4c3f26e21d8bd",
     "locked": true,
     "schema_version": 3,
     "solution": false,
     "task": false
    }
   },
   "source": [
    "__Task:__  Plot the averaged FRFs (only Receptance) of all excitation points in a frequency range of 0-500 Hz.\n",
    "\n",
    "__Hint:__ `%matplotlib widget` enables interactive plots where the x and y coordinates of the point of the plot where your mouse hovers are displayed. Therefore you can easily identify the frequency values in the plots. Be careful to either don't remove the xticklabels from the plot or use `ax0.get_xaxis().set_visible(False)`, otherwise the x coordinate won't be displayed."
   ]
  },
  {
   "cell_type": "code",
   "execution_count": null,
   "metadata": {
    "deletable": false,
    "nbgrader": {
     "cell_type": "code",
     "checksum": "203dbc72db47c09552271650ee23d670",
     "grade": false,
     "grade_id": "cell-9cad1aba45f67c3f",
     "locked": false,
     "schema_version": 3,
     "solution": true,
     "task": false
    },
    "revert": "# implement the function for plotting the averaged FRFs here\n\nimport matplotlib as mpl\nmpl.rc('axes',grid=True,linewidth=0.5) # medium axes frame\nmpl.rc('grid',linewidth=0.5,linestyle=':') # thin grid lines\nimport matplotlib.pyplot as plt\nimport matplotlib.gridspec as gridspec\nimport numpy as np\n\ndef plot_frf(f, R):\n    # Setting up the plot surface\n\n    # YOUR CODE HERE\n    raise NotImplementedError()"
   },
   "outputs": [],
   "source": [
    "# implement the function for plotting the averaged FRFs here\n",
    "\n",
    "import matplotlib as mpl\n",
    "mpl.rc('axes',grid=True,linewidth=0.5) # medium axes frame\n",
    "mpl.rc('grid',linewidth=0.5,linestyle=':') # thin grid lines\n",
    "import matplotlib.pyplot as plt\n",
    "import matplotlib.gridspec as gridspec\n",
    "import numpy as np\n",
    "\n",
    "import matplotlib as mpl\n",
    "mpl.rc('axes', grid=True, linewidth=0.5)  # Medium axes frame\n",
    "mpl.rc('grid', linewidth=0.5, linestyle=':')  # Thin grid lines\n",
    "\n",
    "import matplotlib.pyplot as plt\n",
    "import numpy as np\n",
    "\n",
    "def plot_frf(f, R):\n",
    "    '''\n",
    "    Plot the real, imaginary, amplitude, and phase of frequency response functions (FRFs).\n",
    "\n",
    "    Parameters:\n",
    "        f : np.ndarray\n",
    "            Frequency vector (1D array)\n",
    "        R : np.ndarray\n",
    "            Frequency response functions (2D array: len(f) x N_signals)\n",
    "\n",
    "    Returns:\n",
    "        fig : matplotlib.figure.Figure\n",
    "            The figure object containing the subplots.\n",
    "        axs : np.ndarray of matplotlib.axes._subplots.AxesSubplot\n",
    "            Array of subplot axes: [real, amplitude, imaginary, phase]\n",
    "    '''\n",
    "\n",
    "    # Limit plot to frequency range ≤ 4000 Hz and display up to 500 Hz\n",
    "    freq_limit = f <= 4000\n",
    "    f_plot = f[freq_limit]\n",
    "\n",
    "    # Set up 2x2 subplot figure\n",
    "    fig, axs = plt.subplots(2, 2, figsize=(12, 6))\n",
    "    axs = axs.flatten()\n",
    "\n",
    "    # Define colors for up to 4 signals\n",
    "    colors = ['r', 'g', 'b', 'purple']\n",
    "\n",
    "    # Plot Real Part\n",
    "    for i in range(R.shape[1]):\n",
    "        axs[0].plot(f_plot, R[freq_limit, i].real, color=colors[i % len(colors)], alpha=0.7)\n",
    "    axs[0].set_ylabel(\"Real Part\")\n",
    "    axs[0].set_xlim(0, 500)\n",
    "    axs[0].set_title(\"Real Part\")\n",
    "\n",
    "    # Plot Amplitude (Magnitude)\n",
    "    for i in range(R.shape[1]):\n",
    "        mag = np.abs(R[:, i])\n",
    "        axs[1].semilogy(f_plot, mag[freq_limit], color=colors[i % len(colors)], label=f\"Signal {i+1}\", alpha=0.7)\n",
    "    axs[1].set_ylabel(\"Amplitude\")\n",
    "    axs[1].set_xlim(0, 500)\n",
    "    axs[1].set_title(\"Amplitude\")\n",
    "    axs[1].legend()\n",
    "\n",
    "    # Plot Imaginary Part\n",
    "    for i in range(R.shape[1]):\n",
    "        axs[2].plot(f_plot, R[freq_limit, i].imag, color=colors[i % len(colors)], alpha=0.7)\n",
    "    axs[2].set_xlabel(\"f in Hz\")\n",
    "    axs[2].set_ylabel(\"Imag Part\")\n",
    "    axs[2].set_xlim(0, 500)\n",
    "    axs[2].set_title(\"Imaginary Part\")\n",
    "\n",
    "    # Plot Phase (in degrees)\n",
    "    for i in range(R.shape[1]):\n",
    "        phase = np.angle(R[:, i], deg=True)\n",
    "        axs[3].plot(f_plot, phase[freq_limit], color=colors[i % len(colors)], alpha=0.7)\n",
    "    axs[3].set_xlabel(\"f in Hz\")\n",
    "    axs[3].set_ylabel(\"φ in deg\")\n",
    "    axs[3].set_xlim(0, 500)\n",
    "    axs[3].set_title(\"Phase\")\n",
    "\n",
    "    plt.tight_layout()\n",
    "    plt.show()\n",
    "\n",
    "    return fig, np.array(axs)"
   ]
  },
  {
   "cell_type": "code",
   "execution_count": null,
   "metadata": {
    "deletable": false,
    "nbgrader": {
     "cell_type": "code",
     "checksum": "479c2b2d658d49dc1346351187d8e6b3",
     "grade": false,
     "grade_id": "cell-f431787d4b823a22",
     "locked": false,
     "schema_version": 3,
     "solution": true,
     "task": false
    },
    "revert": "# YOUR CODE HERE\nraise NotImplementedError()"
   },
   "outputs": [],
   "source": [
    "# YOUR CODE HERE\n",
    "import matplotlib.cm as cm\n",
    "title_name = \"Averaged FRFs - receptance (Averaged) [Real Part]\"\n",
    "\n",
    "# Extract frequency from any key\n",
    "first_key = next(iter(fft_data_avg))\n",
    "N = 2 * (fft_data_avg[first_key]['receptance_avg'].shape[0] - 1)\n",
    "f = np.fft.rfftfreq(N, d=1 / SAMPLING_RATE)\n",
    "mask = f <= 500\n",
    "f_plot = f[mask]\n",
    "\n",
    "# Set up the plot\n",
    "fig, ax = plt.subplots(figsize=(12, 6))\n",
    "colors = cm.get_cmap('tab20', len(fft_data_avg))\n",
    "\n",
    "# Plot each averaged accelerance curve (real part)\n",
    "for i, AV_TP in enumerate(fft_data_avg):\n",
    "    R = fft_data_avg[AV_TP]['receptance_avg']\n",
    "    ax.plot(f_plot, np.abs(R[mask]), label=f\"{AV_TP}\", linewidth=1.5, alpha=0.9, color=colors(i))\n",
    "\n",
    "# Styling\n",
    "ax.set_title(title_name, fontsize=14)\n",
    "ax.set_xlabel(\"Frequency [Hz]\", fontsize=12)\n",
    "ax.set_ylabel(\"Receptance\", fontsize=12)\n",
    "ax.set_xlim(50, 500)\n",
    "ax.set_ylim(0, 2.5e-5)\n",
    "ax.grid(True, which='both', linestyle=':', linewidth=0.5)\n",
    "\n",
    "# Legend (outside the plot)\n",
    "ax.legend(loc='center left', bbox_to_anchor=(1, 0.5), fontsize=9, ncol=1, frameon=False)\n",
    "\n",
    "plt.tight_layout(rect=[0, 0, 0.85, 1])  # leave space on right for legend\n",
    "plt.show()"
   ]
  },
  {
   "cell_type": "markdown",
   "metadata": {
    "deletable": false,
    "editable": false,
    "nbgrader": {
     "cell_type": "markdown",
     "checksum": "d92ef3ba902bcbd3789b46de4f2ddc08",
     "grade": false,
     "grade_id": "cell-9e8865c3023eb61a",
     "locked": true,
     "schema_version": 3,
     "solution": false,
     "task": false
    }
   },
   "source": [
    "**Questions:**\n",
    "\n",
    "* Why is it okay to consider a frequency range from 0-500Hz and to cut off higher frequencies? \n"
   ]
  },
  {
   "cell_type": "markdown",
   "metadata": {
    "deletable": false,
    "nbgrader": {
     "cell_type": "markdown",
     "checksum": "e4d401e181f0d550afb71d8cc999da00",
     "grade": true,
     "grade_id": "cell-26a14ad7d325d8a0",
     "locked": false,
     "points": 0,
     "schema_version": 3,
     "solution": true,
     "task": false
    },
    "revert": "YOUR ANSWER HERE"
   },
   "source": [
    "YOUR ANSWER HERE"
   ]
  },
  {
   "cell_type": "markdown",
   "metadata": {
    "deletable": false,
    "editable": false,
    "nbgrader": {
     "cell_type": "markdown",
     "checksum": "bd778580ef5a1f80a89595973bc2f845",
     "grade": false,
     "grade_id": "cell-d1bc7c99a620f1dd",
     "locked": true,
     "schema_version": 3,
     "solution": false,
     "task": false
    }
   },
   "source": [
    "## 2 Peak-Picking and Eigenfrequencies - Exercise (2 Points)\n",
    "\n",
    "You can select the peaks based on the absolute values, the zeros of the real parts or the extreme values of the imaginary parts, as describe in the lecture. Note that you can use the FRFs of several different points for peak picking to identify as many natural frequencies as possible. Use excitation points for which proper and realiable measurement signals are available!\n",
    "\n",
    "__Task:__ Pick 10 peaks based on the figures above and mark them in a plot.\n",
    "* Show the plots from which you picked the peaks (0.5 Points)\n",
    "* Store the corresponding frequencies to the array __fn__ (0.5 Points)\n",
    "* Mark the peaks in the plots respectively (1 Point)\n",
    "\n",
    "__Hints:__\n",
    "* Especially take a look at figures with nice runs like EX 2_2, 2_3, 3_3, 5_2, 5_4, 6_2, 6_4, etc.\n",
    "* Note that these peaks could differ from the actual eigenfrequencies"
   ]
  },
  {
   "cell_type": "code",
   "execution_count": null,
   "metadata": {
    "deletable": false,
    "nbgrader": {
     "cell_type": "code",
     "checksum": "32a7b87d52a88691895d626ff84d85fc",
     "grade": true,
     "grade_id": "cell-65802eed0dec0978",
     "locked": false,
     "points": 2,
     "schema_version": 3,
     "solution": true,
     "task": false
    },
    "revert": "fn = np.zeros(10) # fill this array with the 10 frequencies you picked from the graph\n\n# YOUR CODE HERE\nraise NotImplementedError()"
   },
   "outputs": [],
   "source": [
    "fn = np.zeros(10) # fill this array with the 10 frequencies you picked from the graph\n",
    "\n",
    "# YOUR CODE HERE\n",
    "from scipy.signal import find_peaks\n",
    "\n",
    "fn_natural = [ 90.27687698, 117.31775428, 175.69534125, 238.50182961, 254.41077978,\n",
    " 265.08306408, 292.08229899, 359.70245276, 383.69546858, 460.57030902]\n",
    "\n",
    "# List of selected good excitation points (from hint)\n",
    "selected_excitations = ['2_2', '2_3', '2_4', '3_3', '4_3', '5_2', '5_3', '5_4', '6_2', '6_4' ]\n",
    "picked_freqs = []\n",
    "\n",
    "# Collect all peaks for final frequency selection\n",
    "all_peaks = []\n",
    "\n",
    "# Loop through selected excitation points and plot\n",
    "peak_idx = 0\n",
    "for ex in selected_excitations:\n",
    "    if ex not in fft_data:\n",
    "        continue\n",
    "    \n",
    "    frf_data = fft_data[ex]['receptance'] \n",
    "    R = np.mean(frf_data, axis=1)  # average over runs\n",
    "    mag = np.abs(R)\n",
    "    \n",
    "    # Find peaks (tune `height` or `prominence` as needed)\n",
    "    peaks, properties = find_peaks(mag, prominence=1e-8)\n",
    "    \n",
    "    # Limit frequency range to visible range\n",
    "    f_plot = freq[freq <= 500]\n",
    "    mag_plot = mag[freq <= 500]\n",
    "    \n",
    "    # Store peaks for final frequency selection\n",
    "    peak_freqs = freq[peaks][freq[peaks] <= 500]\n",
    "    peak_mags = mag[peaks][freq[peaks] <= 500]\n",
    "    all_peaks.extend(peak_freqs.tolist())\n",
    "\n",
    "    # Plot\n",
    "    plt.figure(figsize=(12, 6))\n",
    "    plt.plot(f_plot, mag_plot, label=f\"FRF {ex}\")\n",
    "    \n",
    "    # ADDITION: Plot vertical lines at natural frequencies\n",
    "    for f in fn_natural:\n",
    "        if f <= 500:  # Only plot if within visible range\n",
    "            plt.axvline(x=f, color='r', linestyle='--', alpha=0.5, linewidth=1)\n",
    "\n",
    "    # Mark up to 15 most prominent peaks per figure\n",
    "    if len(peak_freqs) > 0:\n",
    "        # Sort by magnitude (most prominent first)\n",
    "        sorted_indices = np.argsort(peak_mags)[::-1][:15]\n",
    "        \n",
    "        # Create annotation positions\n",
    "        annotations = []\n",
    "        \n",
    "        for idx in sorted_indices:\n",
    "            f_peak = peak_freqs[idx]\n",
    "            m_peak = peak_mags[idx]\n",
    "            plt.plot(f_peak, m_peak, 'rx', markersize=10)\n",
    "            \n",
    "            # Determine vertical position (staggered pattern)\n",
    "            if idx % 4 == 0:  # 1st peak in group\n",
    "                y_offset = m_peak * 1.8\n",
    "            elif idx % 4 == 1:  # 2nd peak in group\n",
    "                y_offset = m_peak * 0.6\n",
    "            elif idx % 4 == 2:  # 3rd peak in group\n",
    "                y_offset = m_peak * 1.4\n",
    "            else:  # 4th peak in group\n",
    "                y_offset = m_peak * 0.8\n",
    "                \n",
    "            annotations.append((f_peak, m_peak, y_offset))\n",
    "\n",
    "        # Sort annotations by frequency to avoid crossing arrows\n",
    "        annotations.sort(key=lambda x: x[0])\n",
    "        \n",
    "        # Add annotations with arrows\n",
    "        for f_peak, m_peak, y_offset in annotations:\n",
    "            plt.annotate(\n",
    "                f\"{f_peak:.1f} Hz\", \n",
    "                xy=(f_peak, m_peak),\n",
    "                xytext=(f_peak + 40, y_offset),\n",
    "                arrowprops=dict(arrowstyle='->', color='gray', alpha=0.7),\n",
    "                bbox=dict(boxstyle=\"round,pad=0.2\", fc=\"white\", ec=\"gray\", alpha=0.7),\n",
    "                fontsize=9\n",
    "            )\n",
    "\n",
    "    plt.title(f\"Receptance FRF for excitation {ex} (Red Dashes: Natural Frequencies)\")\n",
    "    plt.xlabel(\"Frequency [Hz]\")\n",
    "    plt.ylabel(\"Amplitude\")\n",
    "    plt.xlim(10,500)\n",
    "    plt.ylim(1e-8,1e-3)\n",
    "    plt.yscale('log')\n",
    "    plt.grid(True)\n",
    "    plt.tight_layout()\n",
    "    plt.legend()\n",
    "    plt.show()\n",
    "\n",
    "# Automatically select the best frequencies matching natural frequencies\n",
    "fn_selected = []\n",
    "for natural_freq in fn_natural:\n",
    "    # Find closest detected peak\n",
    "    closest_peak = min(all_peaks, key=lambda x: abs(x - natural_freq))\n",
    "    fn_selected.append(closest_peak)\n",
    "    \n",
    "# Sort and take top 10\n",
    "fn = np.sort(np.array(fn_selected))[:10]\n",
    "\n",
    "# Final picked frequencies\n",
    "print(\"Selected natural frequencies [Hz]:\")\n",
    "print(fn)"
   ]
  },
  {
   "cell_type": "markdown",
   "metadata": {
    "deletable": false,
    "editable": false,
    "nbgrader": {
     "cell_type": "markdown",
     "checksum": "c4be41f9936a084e1f3ea75fc76bec98",
     "grade": false,
     "grade_id": "cell-6c039a4d6d49f2c0",
     "locked": true,
     "schema_version": 3,
     "solution": false,
     "task": false
    }
   },
   "source": [
    "**Questions:**\n",
    "\n",
    "* Which of the measurement points display the correct Eigenfrequencies?\n"
   ]
  },
  {
   "cell_type": "markdown",
   "metadata": {
    "deletable": false,
    "nbgrader": {
     "cell_type": "markdown",
     "checksum": "18bfe207d6d32e317bc2a7ed23a7cac6",
     "grade": true,
     "grade_id": "cell-cdfb062b8c32ad06",
     "locked": false,
     "points": 0,
     "schema_version": 3,
     "solution": true,
     "task": false
    },
    "revert": "YOUR ANSWER HERE"
   },
   "source": [
    "YOUR ANSWER HERE"
   ]
  },
  {
   "cell_type": "markdown",
   "metadata": {
    "deletable": false,
    "editable": false,
    "nbgrader": {
     "cell_type": "markdown",
     "checksum": "205cdfa5ee5f8b3d078e7bf61bac33d2",
     "grade": false,
     "grade_id": "cell-c50c7e103778d3a8",
     "locked": true,
     "schema_version": 3,
     "solution": false,
     "task": false
    }
   },
   "source": [
    "* What if different FRFs show multiple peaks in a very small frequency range? "
   ]
  },
  {
   "cell_type": "markdown",
   "metadata": {
    "deletable": false,
    "nbgrader": {
     "cell_type": "markdown",
     "checksum": "9fe34128f989e8af1256e9f26b344239",
     "grade": true,
     "grade_id": "cell-70a4da2a707cb728",
     "locked": false,
     "points": 0,
     "schema_version": 3,
     "solution": true,
     "task": false
    },
    "revert": "YOUR ANSWER HERE"
   },
   "source": [
    "YOUR ANSWER HERE"
   ]
  },
  {
   "cell_type": "markdown",
   "metadata": {
    "deletable": false,
    "editable": false,
    "nbgrader": {
     "cell_type": "markdown",
     "checksum": "47daf94358dbc0bcf572c8cd96253456",
     "grade": false,
     "grade_id": "cell-c0db96a8eec4e714",
     "locked": true,
     "schema_version": 3,
     "solution": false,
     "task": false
    }
   },
   "source": [
    "* Which transfer function should be utilized to obtain the damping ratios?"
   ]
  },
  {
   "cell_type": "markdown",
   "metadata": {
    "deletable": false,
    "nbgrader": {
     "cell_type": "markdown",
     "checksum": "ed4ce32eb06044c484846e790f26b138",
     "grade": true,
     "grade_id": "cell-cbc28249b19cdafb",
     "locked": false,
     "points": 0,
     "schema_version": 3,
     "solution": true,
     "task": false
    },
    "revert": "YOUR ANSWER HERE"
   },
   "source": [
    "YOUR ANSWER HERE"
   ]
  },
  {
   "cell_type": "markdown",
   "metadata": {
    "deletable": false,
    "editable": false,
    "nbgrader": {
     "cell_type": "markdown",
     "checksum": "88191ae45d6f96f126ac8b0dcbb0b477",
     "grade": false,
     "grade_id": "cell-e94bb2ffc8e87994",
     "locked": true,
     "schema_version": 3,
     "solution": false,
     "task": false
    }
   },
   "source": [
    "## 3 Determine natural frequencies and damping ratios of the plate\n",
    "\n",
    "### 3.1 Half-Power Method - Exercise (2 Points)\n",
    "\n",
    "__Task:__ Select 6 eigenfrequencies where the increase in amplitude is nicely visible and undisturbed. Apply the half-power method to the averaged FRF fo EX 5_2 and determine 6 modal damping coefficients. Make sure to include the one in the range of 350-450Hz! Lateron we will compare the modal damping of this eigenmode between the Half-Power method (HPM) and the Circle-Fitting method.\n",
    "* choose 6 eigenfrequencies you determined using the peak-picking method, make sure to include the one in the range of 350-450 Hz (0.5 Points)\n",
    "* for each eigenfrequency, determine the half power frequencies (1 Points)\n",
    "* calculate the corresponding modal damping coefficient (0.5 Points)\n",
    "\n",
    "__Hint:__ Determine a suitable frequency range around the eigenfrequency where you want to apply the HPM. Determine the half-power frequencies and eigenfrequency by using `numpy.argmin()` and similar functions."
   ]
  },
  {
   "cell_type": "code",
   "execution_count": null,
   "metadata": {
    "deletable": false,
    "nbgrader": {
     "cell_type": "code",
     "checksum": "c06b90c581ece1f527d7325bd5553b61",
     "grade": true,
     "grade_id": "cell-3209bdd7e7971dd7",
     "locked": false,
     "points": 2,
     "schema_version": 3,
     "solution": true,
     "task": false
    },
    "revert": "fn = np.zeros(6) # select 6 eigenfrequencies\nxi = np.zeros(6) # corresponding modal damping coefficients\nfLR = np.zeros((6,2),dtype=int) # store the frequency range for half power method\n\n# YOUR CODE HERE\nraise NotImplementedError()"
   },
   "outputs": [],
   "source": [
    "fn = np.zeros(6) # select 6 eigenfrequencies\n",
    "xi = np.zeros(6) # corresponding modal damping coefficients\n",
    "fLR = np.zeros((6,2),dtype=int) # store the frequency range for half power method\n",
    "\n",
    "# YOUR CODE HERE\n",
    "fn = np.array([96.2, 151.9, 238.5, 280.8, 388.5, 473.1])  # Your 6 selected frequencies\n",
    "\n",
    "key = '5_2'\n",
    "R = fft_data_avg[key]['receptance_avg']  # Averaged FRF\n",
    "mag = np.abs(R)\n",
    "freq = np.fft.rfftfreq(2 * (len(mag) - 1), d=1 / SAMPLING_RATE)\n",
    "\n",
    "# Apply frequency mask\n",
    "freq_mask = (freq >= 30) & (freq <= 500)\n",
    "freq = freq[freq_mask]\n",
    "mag = mag[freq_mask]\n",
    "\n",
    "# Loop over selected frequencies\n",
    "for i in range(len(fn)):\n",
    "    # Find the index closest to the target frequency\n",
    "    peak_idx = np.argmin(np.abs(freq - fn[i]))\n",
    "    A_peak = mag[peak_idx]\n",
    "    A_half = A_peak / np.sqrt(2)\n",
    "\n",
    "    # Find left index (f1) where amplitude drops below A_half\n",
    "    f1 = peak_idx\n",
    "    while f1 > 0 and mag[f1] > A_half:\n",
    "        f1 -= 1\n",
    "\n",
    "    # Find right index (f2) where amplitude drops below A_half\n",
    "    f2 = peak_idx\n",
    "    while f2 < len(mag) - 1 and mag[f2] > A_half:\n",
    "        f2 += 1\n",
    "\n",
    "    fLR[i, 0] = f1\n",
    "    fLR[i, 1] = f2\n",
    "\n",
    "    # Compute damping ratio\n",
    "    xi[i] = (freq[f2] - freq[f1]) / (2 * fn[i])\n",
    "\n",
    "# Output results\n",
    "print(\"Mode |   fn [Hz]  |  f1 [Hz]  |  f2 [Hz]  |   xi\")\n",
    "print(\"-----|------------|-----------|-----------|--------\")\n",
    "for i in range(6):\n",
    "    print(f\" {i+1:3d} | {fn[i]:10.2f} | {freq[fLR[i,0]]:9.2f} | {freq[fLR[i,1]]:9.2f} | {xi[i]:.4f}\")"
   ]
  },
  {
   "cell_type": "markdown",
   "metadata": {
    "deletable": false,
    "editable": false,
    "nbgrader": {
     "cell_type": "markdown",
     "checksum": "07696b5b0dbcaf24581c90a223e7dc3c",
     "grade": false,
     "grade_id": "cell-1729c19717b01bb3",
     "locked": true,
     "schema_version": 3,
     "solution": false,
     "task": false
    }
   },
   "source": [
    "### 3.2 Circle-Fitting\n",
    "\n",
    "__Task:__ Plot the averaged data of EX 5_2 in the Nyquist plane (as shown below). For the sake of visbility plot from 30-500 Hz.\n",
    "\n",
    "<img src=\"./figs/nyquist_full.png\"  width=\"50%\">"
   ]
  },
  {
   "cell_type": "code",
   "execution_count": null,
   "metadata": {
    "deletable": false,
    "nbgrader": {
     "cell_type": "code",
     "checksum": "5acd1df01466c2d2c6839ff7616d0401",
     "grade": false,
     "grade_id": "cell-4e62853e2cbb64e9",
     "locked": false,
     "schema_version": 3,
     "solution": true,
     "task": false
    },
    "revert": "# plot the FRF (Receptance) of EX 5_2 in the Nyquist plane from 30 Hz to 500 Hz\n\n# YOUR CODE HERE\nraise NotImplementedError()"
   },
   "outputs": [],
   "source": [
    "# plot the FRF (Receptance) of EX 5_2 in the Nyquist plane from 30 Hz to 500 Hz\n",
    "\n",
    "# YOUR CODE HERE\n",
    "# Select the excitation point\n",
    "excitation_point = '5_2'\n",
    "\n",
    "# Choose either 'accelerance_avg' or 'receptance_avg' to plot\n",
    "FRF_complex = fft_data_avg[excitation_point]['receptance_avg']  # Or use 'receptance_avg'\n",
    "\n",
    "# Frequency vector (same length as FRF)\n",
    "N = 2 * (len(FRF_complex) - 1)\n",
    "frequencies = np.fft.rfftfreq(N, d=1/SAMPLING_RATE)\n",
    "\n",
    "# Filter for desired frequency range (30 to 500 Hz)\n",
    "mask = (frequencies >= 30) & (frequencies <= 500)\n",
    "f_plot = frequencies[mask]\n",
    "FRF_plot = FRF_complex[mask]\n",
    "\n",
    "# Plot in the Nyquist plane\n",
    "plt.figure(figsize=(6, 6))\n",
    "plt.plot(FRF_plot.real, FRF_plot.imag, label='Nyquist Curve')\n",
    "plt.plot(FRF_plot.real[0], FRF_plot.imag[0], 'go', label='Start (30 Hz)')\n",
    "plt.plot(FRF_plot.real[-1], FRF_plot.imag[-1], 'ro', label='End (500 Hz)')\n",
    "plt.xlabel(\"Real part\")\n",
    "plt.ylabel(\"Imaginary part\")\n",
    "plt.title(f\"Nyquist Plot of Averaged FRF (Accelerance) - Ex {excitation_point}\")\n",
    "plt.grid(True)\n",
    "plt.axis(\"equal\")\n",
    "plt.legend()\n",
    "plt.tight_layout()\n",
    "plt.show()"
   ]
  },
  {
   "cell_type": "markdown",
   "metadata": {
    "deletable": false,
    "editable": false,
    "nbgrader": {
     "cell_type": "markdown",
     "checksum": "8f9e9e525ab4eacae23ffc9dd688812f",
     "grade": false,
     "grade_id": "cell-9cae6dc5485714fe",
     "locked": true,
     "schema_version": 3,
     "solution": false,
     "task": false
    }
   },
   "source": [
    "__Task:__ Again plot the FRF in the Nyquist plane, but this time for a frequency range of 350-470 Hz. You should be able to see somewhat of a circular-like contour. Additionally select the frequency range for which you want to perform the circle fitting and plot the data for this frequency range as well. This data should only contain parts of the circle!\n",
    "\n",
    "<img src=\"./figs/nyquist_eigenfreq_new.png\"  width=\"40%\">"
   ]
  },
  {
   "cell_type": "code",
   "execution_count": null,
   "metadata": {
    "deletable": false,
    "nbgrader": {
     "cell_type": "code",
     "checksum": "48d043015cf96ec6efc4037c1b733648",
     "grade": false,
     "grade_id": "cell-461a8e3ebde1ba2d",
     "locked": false,
     "schema_version": 3,
     "solution": true,
     "task": false
    },
    "revert": "# plot from 350-470Hz\n# YOUR CODE HERE\nraise NotImplementedError()\n\n# choose a frequency range where only the circle is included\nre = 0 # real part of FRF from fmin to fmax => shape depends on how many frequencies you include!\nim = 0 # imagniary part of FRF ....\nfreqLR = 0 # frequencies you include in the circle-fitting\n# e.g. freqLR = freq[iL:iR]\n# L...index of left/lowest frequency\n# R...index of right/highest frequency\n# YOUR CODE HERE\nraise NotImplementedError()"
   },
   "outputs": [],
   "source": [
    "# plot from 350-470Hz\n",
    "# YOUR CODE HERE\n",
    "# Step 1: Nyquist plot from 350 to 470 Hz\n",
    "excitation_point = '5_2'\n",
    "FRF_complex = fft_data_avg[excitation_point]['receptance_avg']  # Choose 'receptance_avg' if needed\n",
    "\n",
    "N = 2 * (len(FRF_complex) - 1)\n",
    "frequencies = np.fft.rfftfreq(N, d=1/SAMPLING_RATE)\n",
    "\n",
    "# Frequency range mask: 350–470 Hz\n",
    "mask_full = (frequencies >= 350) & (frequencies <= 470)\n",
    "f_plot = frequencies[mask_full]\n",
    "FRF_plot = FRF_complex[mask_full]\n",
    "\n",
    "# Plot full circle-like contour\n",
    "plt.figure(figsize=(6, 6))\n",
    "plt.plot(FRF_plot.real, FRF_plot.imag, 'k-', label='FRF (350–470 Hz)')\n",
    "plt.xlabel(\"Real part\")\n",
    "plt.ylabel(\"Imaginary part\")\n",
    "plt.title(f\"Nyquist Plot of FRF (Receptance) – Ex {excitation_point}\\n[350–470 Hz]\")\n",
    "plt.grid(True)\n",
    "plt.axis(\"equal\")\n",
    "plt.legend()\n",
    "plt.tight_layout()\n",
    "plt.show()\n",
    "\n",
    "# choose a frequency range where only the circle is included\n",
    "re = 0 # real part of FRF from fmin to fmax => shape depends on how many frequencies you include!\n",
    "im = 0 # imagniary part of FRF ....\n",
    "freqLR = 0 # frequencies you include in the circle-fitting\n",
    "# e.g. freqLR = freq[iL:iR]\n",
    "# L...index of left/lowest frequency\n",
    "# R...index of right/highest frequency\n",
    "# YOUR CODE HERE\n",
    "\n",
    "\n",
    "# Step 2: Choose subset of circle data for fitting (e.g., resonant mode area only)\n",
    "# Manually pick a zoom-in range, e.g. 390–420 Hz\n",
    "iL = np.searchsorted(frequencies, 390)\n",
    "iR = np.searchsorted(frequencies, 420)\n",
    "freqLR = frequencies[iL:iR]\n",
    "FRF_circle_segment = FRF_complex[iL:iR]\n",
    "re = FRF_circle_segment.real\n",
    "im = FRF_circle_segment.imag\n",
    "\n",
    "# Plot the partial circle segment\n",
    "plt.figure(figsize=(6, 6))\n",
    "plt.plot(FRF_plot.real, FRF_plot.imag, 'lightgray', label='Full FRF (350–470 Hz)')\n",
    "plt.plot(re, im, 'b-o', label='Partial FRF for Circle Fit')\n",
    "plt.xlabel(\"Real part\")\n",
    "plt.ylabel(\"Imaginary part\")\n",
    "plt.title(f\"Partial Nyquist Curve for Circle Fit – Ex {excitation_point}\\n[390–420 Hz]\")\n",
    "plt.grid(True)\n",
    "plt.axis(\"equal\")\n",
    "plt.legend()\n",
    "plt.tight_layout()\n",
    "plt.show()"
   ]
  },
  {
   "cell_type": "markdown",
   "metadata": {
    "deletable": false,
    "editable": false,
    "nbgrader": {
     "cell_type": "markdown",
     "checksum": "d5099e5e99d63cc2edd1c09d765183a3",
     "grade": false,
     "grade_id": "cell-040b9952c25fd1ba",
     "locked": true,
     "schema_version": 3,
     "solution": false,
     "task": false
    }
   },
   "source": [
    "The circle is described by 3 variables: a,b and c. By defining an error function and minimizing it (least squares routine) we can fit the circle to the data (eq. 24-26 in the [lecture slides](./slides-5_IdentificationMethods.pdf)). By calculating the partial derivatives of the error function we can setup a linear system which we can solve (eq. 27). \n",
    "\n",
    "__Task:__ Calculate the coefficients of the linear system and solve it for a,b,c.\n",
    "\n",
    "__Hint:__ Solve the linear system Ax=b with `scipy.linalg.solve` instead of inverting the matrix. By setting `scipy.linalg.solve(..., assume_a='sym')` we can use the symmetry of the matrix and be more efficient."
   ]
  },
  {
   "cell_type": "code",
   "execution_count": null,
   "metadata": {
    "deletable": false,
    "nbgrader": {
     "cell_type": "code",
     "checksum": "f2c50b50730f43f7bedccf817a20e620",
     "grade": false,
     "grade_id": "cell-fce1e9ee28c1f4f7",
     "locked": false,
     "schema_version": 3,
     "solution": true,
     "task": false
    },
    "revert": "# coefficients of linear system\n# YOUR CODE HERE\nraise NotImplementedError()\n\n# setup A by filling it with the coefficients\nA = np.zeros((3,3))\n# YOUR CODE HERE\nraise NotImplementedError()\n\n# setub b by filling it with the coefficients\nb = np.zeros((3,1))\n# YOUR CODE HERE\nraise NotImplementedError()\n\n# solve \na = np.zeros(3) # a = [a,b,c] => contains the parameters for the circle\n# YOUR CODE HERE\nraise NotImplementedError()"
   },
   "outputs": [],
   "source": [
    "# coefficients of linear system\n",
    "# YOUR CODE HERE\n",
    "raise NotImplementedError()\n",
    "\n",
    "# setup A by filling it with the coefficients\n",
    "A = np.zeros((3,3))\n",
    "# YOUR CODE HERE\n",
    "raise NotImplementedError()\n",
    "\n",
    "# setub b by filling it with the coefficients\n",
    "b = np.zeros((3,1))\n",
    "# YOUR CODE HERE\n",
    "raise NotImplementedError()\n",
    "\n",
    "# solve \n",
    "a = np.zeros(3) # a = [a,b,c] => contains the parameters for the circle\n",
    "# YOUR CODE HERE\n",
    "raise NotImplementedError()"
   ]
  },
  {
   "cell_type": "markdown",
   "metadata": {
    "deletable": false,
    "editable": false,
    "nbgrader": {
     "cell_type": "markdown",
     "checksum": "d5bc54df7c31dfa6ea56573ab705bb3d",
     "grade": false,
     "grade_id": "cell-84108e35803a0823",
     "locked": true,
     "schema_version": 3,
     "solution": false,
     "task": false
    }
   },
   "source": [
    "__Task:__ Now obtain the circle parameters M (mid point) and R (radius) with equations (25) and below (28) in the text. Plot the FRF in your determined frequency range in the Nyquist plane and the circle with its mid point. Therefore we can check if we worked correctly.\n",
    "\n",
    "__Hint:__ You can generate a circle with `circle = plt.Circle` and then add it to the subplot by `ax.add_patch(circle)`.\n",
    "\n",
    "<img src=\"./figs/nyquist_circle_new.png\"  width=\"30%\">"
   ]
  },
  {
   "cell_type": "code",
   "execution_count": null,
   "metadata": {
    "deletable": false,
    "nbgrader": {
     "cell_type": "code",
     "checksum": "ba19b2340a5f6f142b86abfe063f6495",
     "grade": false,
     "grade_id": "cell-370446be7269d337",
     "locked": false,
     "schema_version": 3,
     "solution": true,
     "task": false
    },
    "revert": "# obtain circle mid point and radius\nR = 0 # radius\nM = 0+1j*0 # mid point\n# YOUR CODE HERE\nraise NotImplementedError()\n\n# plot\n# YOUR CODE HERE\nraise NotImplementedError()"
   },
   "outputs": [],
   "source": [
    "# obtain circle mid point and radius\n",
    "R = 0 # radius\n",
    "M = 0+1j*0 # mid point\n",
    "# YOUR CODE HERE\n",
    "raise NotImplementedError()\n",
    "\n",
    "# plot\n",
    "# YOUR CODE HERE\n",
    "raise NotImplementedError()"
   ]
  },
  {
   "cell_type": "markdown",
   "metadata": {
    "deletable": false,
    "editable": false,
    "nbgrader": {
     "cell_type": "markdown",
     "checksum": "06fd30fb0464adea9e1b875102746c83",
     "grade": false,
     "grade_id": "cell-88b105cacb19525d",
     "locked": true,
     "schema_version": 3,
     "solution": false,
     "task": false
    }
   },
   "source": [
    "Next we have to determine the frequency spacing $\\gamma$. This is done by taking two vectors which reach from the mid point of the circle to succeeding points and calculating the angle between them. With this we can determine the natural frequency, which is located where $\\frac{\\partial^2 \\omega}{\\partial \\gamma^2}=0$ and $\\frac{\\partial \\omega}{\\partial \\gamma}$ is maximum.\n",
    "\n",
    "__Task:__ Determine at which index (jmax) the first derivative $\\frac{\\partial \\omega}{\\partial \\gamma}$ reaches its maximum, as well as the index before the second derivatives switches signs (ja) and the index after the second derivative switches signs (jb). Use `np.gradient` to calculate the derivatives.\n",
    "\n",
    "__Hint:__ The angle between two vectors is determined by $cos(\\gamma) = \\frac{\\langle \\mathbf{a} , \\mathbf{b} \\rangle}{|\\mathbf{a}||\\mathbf{b}|}$.\n",
    "\n",
    "__Hint:__ Check if you really found the correct indices by plotting $\\gamma$, its derivatives and highlight the determined indices with vertical lines (`ax.axvline`)!\n",
    "\n",
    "<img src=\"./figs/gamma_and_derivatives_new.png\"  width=\"70%\">"
   ]
  },
  {
   "cell_type": "code",
   "execution_count": null,
   "metadata": {
    "deletable": false,
    "nbgrader": {
     "cell_type": "code",
     "checksum": "1bd8ef84d69336488a0e339fe7e74c2a",
     "grade": false,
     "grade_id": "cell-05f2752f68a97d0d",
     "locked": false,
     "schema_version": 3,
     "solution": true,
     "task": false
    },
    "revert": "# get gamma\ngamma = np.zeros(L-1)\n# YOUR CODE HERE\nraise NotImplementedError()\n\n# find where first derivative is maximum and second passes zero\njmax = 0 # index where first derivative of gamma is maximum\nja = 0 # index before second derivative of gamma switches sign (omega_a)\njb = 0 # index after second derivative of gamma switches sign (omega_b)\ndgamma = np.zeros_like(gamma) # first derivative\nddgamma = np.zeros_like(gamma) # second derivative\n# YOUR CODE HERE\nraise NotImplementedError()\n\n# plot to verify correct indices\n# YOUR CODE HERE\nraise NotImplementedError()"
   },
   "outputs": [],
   "source": [
    "# get gamma\n",
    "gamma = np.zeros(L-1)\n",
    "# YOUR CODE HERE\n",
    "raise NotImplementedError()\n",
    "\n",
    "# find where first derivative is maximum and second passes zero\n",
    "jmax = 0 # index where first derivative of gamma is maximum\n",
    "ja = 0 # index before second derivative of gamma switches sign (omega_a)\n",
    "jb = 0 # index after second derivative of gamma switches sign (omega_b)\n",
    "dgamma = np.zeros_like(gamma) # first derivative\n",
    "ddgamma = np.zeros_like(gamma) # second derivative\n",
    "# YOUR CODE HERE\n",
    "raise NotImplementedError()\n",
    "\n",
    "# plot to verify correct indices\n",
    "# YOUR CODE HERE\n",
    "raise NotImplementedError()"
   ]
  },
  {
   "cell_type": "markdown",
   "metadata": {
    "deletable": false,
    "editable": false,
    "nbgrader": {
     "cell_type": "markdown",
     "checksum": "45f27979f853979519ad9c1eb08d91e8",
     "grade": false,
     "grade_id": "cell-b028d284ab907ea0",
     "locked": true,
     "schema_version": 3,
     "solution": false,
     "task": false
    }
   },
   "source": [
    "__Task:__ Linearly interpolate the second derivative of gamma between $\\omega_a$ and $\\omega_b$ and find the eigenfrequency. Plot the interpolated function and highlight the determined index where the eigenfrequency is located with a vertical line!\n",
    "\n",
    "__Hint:__ Use `scipy.interpolate.interp1d` to setup an interpolation function and then interpolate with it.\n",
    "\n",
    "<img src=\"./figs/gamma_interp_new.png\"  width=\"60%\">"
   ]
  },
  {
   "cell_type": "code",
   "execution_count": null,
   "metadata": {
    "deletable": false,
    "nbgrader": {
     "cell_type": "code",
     "checksum": "b122f28a4b324d13aa654785d9eee76f",
     "grade": false,
     "grade_id": "cell-604a4a4754eb716c",
     "locked": false,
     "schema_version": 3,
     "solution": true,
     "task": false
    },
    "revert": "# interpolate ddgamma between ja and jb\nwfreqInterp = np.zeros(1000) # fine resolved frequency array between w_a and w_b\nddgammaInterp = np.zeros(1000) # interpolated second derivative of gamma\n# YOUR CODE HERE\nraise NotImplementedError()\n\n# find eigenfrequency (where the interpolated ddgamma is closest to 0)\nfEig = 0 # eigenfrequency\n# YOUR CODE HERE\nraise NotImplementedError()\n\n# plot to verify\n# YOUR CODE HERE\nraise NotImplementedError()"
   },
   "outputs": [],
   "source": [
    "# interpolate ddgamma between ja and jb\n",
    "wfreqInterp = np.zeros(1000) # fine resolved frequency array between w_a and w_b\n",
    "ddgammaInterp = np.zeros(1000) # interpolated second derivative of gamma\n",
    "# YOUR CODE HERE\n",
    "raise NotImplementedError()\n",
    "\n",
    "# find eigenfrequency (where the interpolated ddgamma is closest to 0)\n",
    "fEig = 0 # eigenfrequency\n",
    "# YOUR CODE HERE\n",
    "raise NotImplementedError()\n",
    "\n",
    "# plot to verify\n",
    "# YOUR CODE HERE\n",
    "raise NotImplementedError()"
   ]
  },
  {
   "cell_type": "markdown",
   "metadata": {
    "deletable": false,
    "editable": false,
    "nbgrader": {
     "cell_type": "markdown",
     "checksum": "f6547cbb56d4e6cc8ee3a3746fe6476c",
     "grade": false,
     "grade_id": "cell-e98727523052729b",
     "locked": true,
     "schema_version": 3,
     "solution": false,
     "task": false
    }
   },
   "source": [
    "__Task:__ Determine D (point opposite of eigenfrequency). Plot the FRF for all frequencies you determined to be relevant for the fitting, the circle, M, D, the point where the eigenfrequency is located ($\\omega_k$), as well as the points where $\\omega_a$ and $\\omega_b$ are located. Additionally connect D with the points of $\\omega_a$, $\\omega_b$ and $\\omega_k$. Your figure should look similar to the one depicted on p.25 in the slides.\n",
    "\n",
    "__Hint:__ First determine the angle of the point of the eigenfrequency and then add pi (flip to opposite side). Do this by interpolating the real and imaginary part of the FRF between $\\omega_a$ and $\\omega_b$.\n",
    "\n",
    "<img src=\"./figs/nyquist_all_new.png\" width=\"40%\">"
   ]
  },
  {
   "cell_type": "code",
   "execution_count": null,
   "metadata": {
    "deletable": false,
    "nbgrader": {
     "cell_type": "code",
     "checksum": "828748a332b8778e75dd59bd4c598cc2",
     "grade": false,
     "grade_id": "cell-fbd836d82c54a51f",
     "locked": false,
     "schema_version": 3,
     "solution": true,
     "task": false
    },
    "revert": "# interpolate re and im between ja and jb and determine re and im of the point at which the eigenfrequency occurs\nreEig = 0 # real part of point at eigenfrequency\nimEig = 0 # imaginary part of point at eigenfrequency\n# YOUR CODE HERE\nraise NotImplementedError()\n\n# determine D by calculating the angle of the vector from M to Eig and turn it by pi\n# don't use the length of this vector, instead use the calculated radius of the circle R!\nD = 0+1j*0\n# YOUR CODE HERE\nraise NotImplementedError()\n\n# plot to verify\n# YOUR CODE HERE\nraise NotImplementedError()"
   },
   "outputs": [],
   "source": [
    "# interpolate re and im between ja and jb and determine re and im of the point at which the eigenfrequency occurs\n",
    "reEig = 0 # real part of point at eigenfrequency\n",
    "imEig = 0 # imaginary part of point at eigenfrequency\n",
    "# YOUR CODE HERE\n",
    "raise NotImplementedError()\n",
    "\n",
    "# determine D by calculating the angle of the vector from M to Eig and turn it by pi\n",
    "# don't use the length of this vector, instead use the calculated radius of the circle R!\n",
    "D = 0+1j*0\n",
    "# YOUR CODE HERE\n",
    "raise NotImplementedError()\n",
    "\n",
    "# plot to verify\n",
    "# YOUR CODE HERE\n",
    "raise NotImplementedError()"
   ]
  },
  {
   "cell_type": "markdown",
   "metadata": {
    "deletable": false,
    "editable": false,
    "nbgrader": {
     "cell_type": "markdown",
     "checksum": "ac580caaa1b20e3bd34b47ad1d7ae5ed",
     "grade": false,
     "grade_id": "cell-24e926547f19d107",
     "locked": true,
     "schema_version": 3,
     "solution": false,
     "task": false
    }
   },
   "source": [
    "__Task:__ Determine the angles $\\Delta\\phi_a$ (angle between $\\omega_a$ and $\\omega_k$) and $\\Delta\\phi_b$ (angle between $\\omega_b$ and $\\omega_k$) by using the dot product and calculate the modal damping coefficient."
   ]
  },
  {
   "cell_type": "code",
   "execution_count": null,
   "metadata": {
    "deletable": false,
    "nbgrader": {
     "cell_type": "code",
     "checksum": "07497632898a26273bda5a1d74ac955c",
     "grade": false,
     "grade_id": "cell-a3450c606855c1cd",
     "locked": false,
     "schema_version": 3,
     "solution": true,
     "task": false
    },
    "revert": "# determine delta phi_a and delta phi_b\nphia = 0\nphib = 0\n# YOUR CODE HERE\nraise NotImplementedError()\n\n# calculate modal damping coefficient (eq. 29)\nxiCF = 0 # modal damping coefficient\n# YOUR CODE HERE\nraise NotImplementedError()\n\nphia, phib, xiCF"
   },
   "outputs": [],
   "source": [
    "# determine delta phi_a and delta phi_b\n",
    "phia = 0\n",
    "phib = 0\n",
    "# YOUR CODE HERE\n",
    "raise NotImplementedError()\n",
    "\n",
    "# calculate modal damping coefficient (eq. 29)\n",
    "xiCF = 0 # modal damping coefficient\n",
    "# YOUR CODE HERE\n",
    "raise NotImplementedError()\n",
    "\n",
    "phia, phib, xiCF"
   ]
  },
  {
   "cell_type": "markdown",
   "metadata": {
    "deletable": false,
    "editable": false,
    "nbgrader": {
     "cell_type": "markdown",
     "checksum": "9922943f14758ddac8f8f5a53966969c",
     "grade": false,
     "grade_id": "cell-328d565ec67abad0",
     "locked": true,
     "schema_version": 3,
     "solution": false,
     "task": false
    }
   },
   "source": [
    "__Question:__ Is the modal damping obtained by circle fitting the same as the one obtained by the Half-Power Method? What might be the sources of error?"
   ]
  },
  {
   "cell_type": "markdown",
   "metadata": {
    "deletable": false,
    "nbgrader": {
     "cell_type": "markdown",
     "checksum": "ffab043c6e4fc38c4c63babc9d808267",
     "grade": true,
     "grade_id": "cell-7fe1d1ce86c2c26b",
     "locked": false,
     "points": 0,
     "schema_version": 3,
     "solution": true,
     "task": false
    },
    "revert": "YOUR ANSWER HERE"
   },
   "source": [
    "YOUR ANSWER HERE"
   ]
  },
  {
   "cell_type": "markdown",
   "metadata": {
    "deletable": false,
    "editable": false,
    "nbgrader": {
     "cell_type": "markdown",
     "checksum": "e169e56ff7453dfcbb3609f7e7cd1424",
     "grade": false,
     "grade_id": "cell-fdc930a604b576ee",
     "locked": true,
     "schema_version": 3,
     "solution": false,
     "task": false
    }
   },
   "source": [
    "__Question:__ What does the modification of the circle fitting error function mean?"
   ]
  },
  {
   "cell_type": "markdown",
   "metadata": {
    "deletable": false,
    "nbgrader": {
     "cell_type": "markdown",
     "checksum": "a17b9929734ea29e208de1eb12514851",
     "grade": true,
     "grade_id": "cell-d891766c86ed6ea4",
     "locked": false,
     "points": 0,
     "schema_version": 3,
     "solution": true,
     "task": false
    },
    "revert": "YOUR ANSWER HERE"
   },
   "source": [
    "YOUR ANSWER HERE"
   ]
  },
  {
   "cell_type": "markdown",
   "metadata": {
    "deletable": false,
    "editable": false,
    "nbgrader": {
     "cell_type": "markdown",
     "checksum": "f34ec7e19b120aac5c568208e955345a",
     "grade": false,
     "grade_id": "cell-8e1b811ed25ea392",
     "locked": true,
     "schema_version": 3,
     "solution": false,
     "task": false
    }
   },
   "source": [
    "__Question:__ How is the damping ratio obtained using circle fitting?"
   ]
  },
  {
   "cell_type": "markdown",
   "metadata": {
    "deletable": false,
    "nbgrader": {
     "cell_type": "markdown",
     "checksum": "56639efb1c3090d9ba2aba0592d90fb6",
     "grade": true,
     "grade_id": "cell-a40140c137fccc63",
     "locked": false,
     "points": 0,
     "schema_version": 3,
     "solution": true,
     "task": false
    },
    "revert": "YOUR ANSWER HERE"
   },
   "source": [
    "YOUR ANSWER HERE"
   ]
  },
  {
   "cell_type": "markdown",
   "metadata": {
    "deletable": false,
    "editable": false,
    "nbgrader": {
     "cell_type": "markdown",
     "checksum": "579aad522a598aefa4cc18475e69a824",
     "grade": false,
     "grade_id": "cell-91cf762c8ee69c18",
     "locked": true,
     "schema_version": 3,
     "solution": false,
     "task": false
    }
   },
   "source": [
    "## 4 Compute the Mode-shapes of the plate - Exercise (4 Points)\n",
    "\n",
    "Select the averaged FRF data for all excitation points at the 6 eigenfrequencies you determined earlier with the half-power method and create 6 contour plots, visualizing the shape of oscillation. This can be done by calculating the modal constants to obtain the oscillation shape (p. 18 in the slides).\n",
    "\n",
    "__Task:__ Compute the modal constants $\\mathbf{C}$ and oscillation shapes $\\mathbf{v}$ for all excitation points. (1.5 points)\n",
    "* for the frequencies you chose from the previous practice, compute the modal constants $\\mathbf{C}$ (1 Point)\n",
    "* compute the corresponding mode shapes $\\mathbf{v}$ (0.5 Points)\n",
    "\n",
    "__Notes:__ The FE model and the real plate have the same dimension but different orientation, so for comparison of the mode shapes, think about how to rotate our measured plate to match the orientation of both plates."
   ]
  },
  {
   "cell_type": "code",
   "execution_count": null,
   "metadata": {
    "deletable": false,
    "nbgrader": {
     "cell_type": "code",
     "checksum": "2953cd248d7cc05376faa99c625e154a",
     "grade": true,
     "grade_id": "cell-d799d906caec43ef",
     "locked": false,
     "points": 1.5,
     "schema_version": 3,
     "solution": true,
     "task": false
    },
    "revert": "C = np.zeros((4,6,6), dtype=np.complex_) # modal constant matrix (4 rows, 6 columns, 6 eigenfrequencies)\nv = np.zeros((4,6,6), dtype=np.complex_) # oscillation shapes (4 rows, 6 columns, 6 eigenfrequencies)\n\nEX_matrix = np.zeros((4,6),dtype=object) # matrix that store the name of the Excitation points\n\nfor i in range(4,0,-1):\n    for j in range(6):\n        #print(\"%d_%d\" % (i, j+1))\n        EX_matrix[abs(i-4),j] = \"%d_%d\" % (j+1, i)\n\nprint(EX_matrix)\n\n# determine modal constants oscillation shape where excitation and measurement point\n# measurement point is located at 3_3!\n\n# YOUR CODE HERE\nraise NotImplementedError()"
   },
   "outputs": [],
   "source": [
    "C = np.zeros((4,6,6), dtype=np.complex_) # modal constant matrix (4 rows, 6 columns, 6 eigenfrequencies)\n",
    "v = np.zeros((4,6,6), dtype=np.complex_) # oscillation shapes (4 rows, 6 columns, 6 eigenfrequencies)\n",
    "\n",
    "EX_matrix = np.zeros((4,6),dtype=object) # matrix that store the name of the Excitation points\n",
    "\n",
    "for i in range(4,0,-1):\n",
    "    for j in range(6):\n",
    "        #print(\"%d_%d\" % (i, j+1))\n",
    "        EX_matrix[abs(i-4),j] = \"%d_%d\" % (j+1, i)\n",
    "\n",
    "print(EX_matrix)\n",
    "\n",
    "# determine modal constants oscillation shape where excitation and measurement point\n",
    "# measurement point is located at 3_3!\n",
    "\n",
    "# YOUR CODE HERE\n",
    "raise NotImplementedError()"
   ]
  },
  {
   "cell_type": "markdown",
   "metadata": {
    "deletable": false,
    "editable": false,
    "nbgrader": {
     "cell_type": "markdown",
     "checksum": "afcdce8c141b1415a06e8394e5ee1a5f",
     "grade": false,
     "grade_id": "cell-74e1909f6a7081b6",
     "locked": true,
     "schema_version": 3,
     "solution": false,
     "task": false
    }
   },
   "source": [
    "__Task:__ Create the contourplots with the oscillation shape data. Make sure to plot it in a way that the plate is oriented in the right way and coordinates are displayed. (1.5 Points: 1 Point for correct plot, 0.5 Points for good formatting)\n",
    "\n",
    "__Hint:__ Take a look at the `plotmodes` function below. Additionally there is a tutorial available under [https://www.tutorialspoint.com/matplotlib/matplotlib_contour_plot.htm](https://www.tutorialspoint.com/matplotlib/matplotlib_contour_plot.htm):\n",
    "```python\n",
    "import numpy as np\n",
    "import matplotlib.pyplot as plt\n",
    "xlist = np.linspace(-3.0, 3.0, 100)\n",
    "ylist = np.linspace(-3.0, 3.0, 100)\n",
    "X, Y = np.meshgrid(xlist, ylist)\n",
    "Z = np.sqrt(X**2 + Y**2)\n",
    "fig,ax=plt.subplots(1,1)\n",
    "cp = ax.contourf(X, Y, Z)\n",
    "fig.colorbar(cp) # Add a colorbar to a plot\n",
    "ax.set_title('Filled Contours Plot')\n",
    "#ax.set_xlabel('x (cm)')\n",
    "ax.set_ylabel('y (cm)')\n",
    "plt.show()\n",
    "```\n",
    "\n",
    "Some example plots of the measured mode shapes are provided for you:\n",
    "\n",
    "<img src='./figs/mode_1.png' width='30%'>\n",
    "<img src='./figs/mode_2.png' width='30%'>\n",
    "<img src='./figs/mode_3.png' width='30%'>"
   ]
  },
  {
   "cell_type": "code",
   "execution_count": null,
   "metadata": {
    "deletable": false,
    "nbgrader": {
     "cell_type": "code",
     "checksum": "4cf6657a6e5cc00313a7614402526f5f",
     "grade": true,
     "grade_id": "cell-2ef546ba95a73e01",
     "locked": false,
     "points": 1.5,
     "schema_version": 3,
     "solution": true,
     "task": false
    },
    "revert": "# contourplot\n# YOUR CODE HERE\nraise NotImplementedError()"
   },
   "outputs": [],
   "source": [
    "# contourplot\n",
    "# YOUR CODE HERE\n",
    "raise NotImplementedError()"
   ]
  },
  {
   "cell_type": "markdown",
   "metadata": {
    "deletable": false,
    "editable": false,
    "nbgrader": {
     "cell_type": "markdown",
     "checksum": "d43f7412e213c16047e326cdd19f64e3",
     "grade": false,
     "grade_id": "cell-18ff4203dbc7603b",
     "locked": true,
     "schema_version": 3,
     "solution": false,
     "task": false
    }
   },
   "source": [
    "Now we compare the experimental oscillation shapes with the modeshapes from our FE-system from exercise 3. In this step we want to compare them visually, so we need to plot the modeshapes.\n",
    "\n",
    "__Task:__ Obtain the modeshapes by solving the EVP and __plot__ them using the nullspace (0.5 Points).\n",
    "\n",
    "__Hint:__ Use the code from homework 3."
   ]
  },
  {
   "cell_type": "code",
   "execution_count": null,
   "metadata": {
    "deletable": false,
    "editable": false,
    "nbgrader": {
     "cell_type": "code",
     "checksum": "8659366af3477061fb4ba9126f830a7b",
     "grade": false,
     "grade_id": "cell-69fd5694cda7c816",
     "locked": true,
     "schema_version": 3,
     "solution": false,
     "task": false
    }
   },
   "outputs": [],
   "source": [
    "from scipy import sparse\n",
    "from scipy.io import mminfo,mmread\n",
    "from utlity_functions import nullspace\n",
    "\n",
    "M = sparse.csc_matrix(mmread('Ms.mtx'))#.toarray() # mass matrix\n",
    "K = sparse.csc_matrix(mmread('Ks.mtx'))#.toarray() # stiffness matrix\n",
    "X = mmread('X.mtx') # coodinate matrix with columns corresponding to x,y,z position of the nodes\n",
    "N = X.shape[0] # number of nodes\n",
    "\n",
    "# constrain all edges\n",
    "tol = 1e-12\n",
    "\n",
    "# constrain all edges\n",
    "Nn = np.argwhere(np.abs(X[:,1]-X[:,1].max())<tol).ravel() # Node indices of N-Edge nodes\n",
    "No = np.argwhere(np.abs(X[:,0]-X[:,0].max())<tol).ravel() # Node indices of O-Edge nodes\n",
    "Ns = np.argwhere(np.abs(X[:,1]-X[:,1].min())<tol).ravel() # Node indices of S-Edge nodes\n",
    "Nw = np.argwhere(np.abs(X[:,0]-X[:,0].min())<tol).ravel() # Node indices of W-Edge nodes\n",
    "\n",
    "Nnosw = np.hstack([Nn,No,Ns,Nw])\n",
    "\n",
    "# select a point for the excitation\n",
    "P1 = [0.2,0.12,0.003925]\n",
    "N1 = np.argmin(np.sum((X-P1)**2,axis=1))\n",
    "P2 = [0.0,-0.1,0.003925]\n",
    "N2 = np.argmin(np.sum((X-P2)**2,axis=1))\n",
    "# center\n",
    "N0 = np.argmin(np.sum((X)**2,axis=1))\n",
    "\n",
    "# select top of the plate\n",
    "Nt = np.argwhere(np.abs(X[:,2]-X[:,2].max())<tol)[:,0]\n",
    "\n",
    "# indices of x, y, and z DoFs in the global system\n",
    "# can be used to get DoF-index in global system, e.g. for y of node n by Iy[n]\n",
    "Ix = np.arange(N)*3 # index of x-dofs\n",
    "Iy = np.arange(N)*3+1\n",
    "Iz = np.arange(N)*3+2\n",
    "\n",
    "# select which indices in the global system must be constrained\n",
    "If = np.array([Ix[Nnosw],Iy[Nnosw],Iz[Nnosw]]).ravel() # dof indices of fix constraint\n",
    "#If = np.array([Ix[Ns],Iy[Ns],Iz[Ns]]).ravel() # dof indices of fix constraint\n",
    "Ic = np.array([(i in If) for i in np.arange(3*N)]) # boolean array of constraind dofs\n",
    "\n",
    "# for plotting\n",
    "nprec = 6 # precision for finding uniqe values\n",
    "# get grid vectors (the unique vectors of the x,y,z coodinate-grid)\n",
    "xv = np.unique(np.round(X[:,0],decimals=nprec))\n",
    "yv = np.unique(np.round(X[:,1],decimals=nprec))\n",
    "zv = np.unique(np.round(X[:,2],decimals=nprec))\n",
    "\n",
    "def plotmodes(V) :\n",
    "    for i,v in enumerate(V.T) : # iterate over eigenvectors\n",
    "        c = np.reshape(v[Iz[Nt]],[len(yv),len(xv)])\n",
    "        lim = np.max(np.abs(c))\n",
    "        fig,ax = plt.subplots(figsize=[3.5,2])\n",
    "        cp = ax.contourf(xv,yv,c,cmap=plt.get_cmap('coolwarm'),vmin=-lim,vmax=lim)\n",
    "        ax.set_aspect('equal')\n",
    "        fig.colorbar(cp)\n",
    "        ax.set_xticks([])\n",
    "        ax.set_yticks([])\n",
    "        fig.tight_layout()"
   ]
  },
  {
   "cell_type": "code",
   "execution_count": null,
   "metadata": {
    "deletable": false,
    "nbgrader": {
     "cell_type": "code",
     "checksum": "3edd8cc1783ca7d20a79c753ed2752de",
     "grade": true,
     "grade_id": "cell-dc2171d4536b0429",
     "locked": false,
     "points": 0.5,
     "schema_version": 3,
     "solution": true,
     "task": false
    },
    "revert": "# 1. setup the nullspace\n# 2. constrain the system\n# 3. calculate the modeshapes and eigenfrequencies\n# 4. obtain modeshape in unconstrained sorting\n\n# YOUR CODE HERE\nraise NotImplementedError()\n\n# plot the modes\nprint(np.sqrt(Wc)/2/np.pi)\nplotmodes(V)"
   },
   "outputs": [],
   "source": [
    "# 1. setup the nullspace\n",
    "# 2. constrain the system\n",
    "# 3. calculate the modeshapes and eigenfrequencies\n",
    "# 4. obtain modeshape in unconstrained sorting\n",
    "\n",
    "# YOUR CODE HERE\n",
    "raise NotImplementedError()\n",
    "\n",
    "# plot the modes\n",
    "print(np.sqrt(Wc)/2/np.pi)\n",
    "plotmodes(V)"
   ]
  },
  {
   "cell_type": "markdown",
   "metadata": {
    "deletable": false,
    "editable": false,
    "nbgrader": {
     "cell_type": "markdown",
     "checksum": "aee5fe4552a6487d251495bd81b17305",
     "grade": false,
     "grade_id": "cell-bfcafce591a76e4f",
     "locked": true,
     "schema_version": 3,
     "solution": false,
     "task": false
    }
   },
   "source": [
    "__Question:__ Based on the visual comparison, which of the FE modes have you identified by peak-picking? (0.5 Points)"
   ]
  },
  {
   "cell_type": "markdown",
   "metadata": {
    "deletable": false,
    "nbgrader": {
     "cell_type": "markdown",
     "checksum": "2a623e9b0d20f80a4b176391e72726fd",
     "grade": true,
     "grade_id": "cell-10d5942b50ea2dbd",
     "locked": false,
     "points": 0.5,
     "schema_version": 3,
     "solution": true,
     "task": false
    },
    "revert": "YOUR ANSWER HERE"
   },
   "source": [
    "YOUR ANSWER HERE"
   ]
  },
  {
   "cell_type": "markdown",
   "metadata": {
    "deletable": false,
    "editable": false,
    "nbgrader": {
     "cell_type": "markdown",
     "checksum": "7574a74b4b564a31f89cb717a4e27731",
     "grade": false,
     "grade_id": "cell-663b8483132fbc37",
     "locked": true,
     "schema_version": 3,
     "solution": false,
     "task": false
    }
   },
   "source": [
    "## 5 Compare experimental identification\n",
    "\n",
    "Compare the calculated Eigenfrequencies and modes computed with peak picking to the modes of the FE model of the plate (Exercises 1-3) using the MAC factor.\n",
    "\n",
    "__Task:__ Calculate the MAC of all oscillation shapes and modeshapes. This should result in a 10x6 matrix where the elements indicate the similarity between the corresponding oscillation shapes and modeshape.\n",
    "\n",
    "__Hint:__ You will have to modify the eigenvectors to only include elements which correspond to the excitation points along the grid. You can do this via the coordinate matrix $\\mathbf{X}$.\n",
    "\n",
    "__Hint:__ You can flatten a matrix by adding `.ravel()` at the end. This is required for the calculation of the MAC."
   ]
  },
  {
   "cell_type": "code",
   "execution_count": null,
   "metadata": {
    "deletable": false,
    "nbgrader": {
     "cell_type": "code",
     "checksum": "7cd67a88a268acf947aa9156fc0e345a",
     "grade": false,
     "grade_id": "cell-1b76c0bca5677d74",
     "locked": false,
     "schema_version": 3,
     "solution": true,
     "task": false
    },
    "revert": "# fill the modified modeshape matrix with the right elements\nw = np.zeros((4,6,10)) # modified modeshape matrix 4 rows 6 colums 10 frequencies\n# YOUR CODE HERE\nraise NotImplementedError()\n\n# calculate the MAC\nMAC = np.zeros((6,10)) # MAC matrix\n# YOUR CODE HERE\nraise NotImplementedError()"
   },
   "outputs": [],
   "source": [
    "# fill the modified modeshape matrix with the right elements\n",
    "w = np.zeros((4,6,10)) # modified modeshape matrix 4 rows 6 colums 10 frequencies\n",
    "# YOUR CODE HERE\n",
    "raise NotImplementedError()\n",
    "\n",
    "# calculate the MAC\n",
    "MAC = np.zeros((6,10)) # MAC matrix\n",
    "# YOUR CODE HERE\n",
    "raise NotImplementedError()"
   ]
  },
  {
   "cell_type": "markdown",
   "metadata": {
    "deletable": false,
    "editable": false,
    "nbgrader": {
     "cell_type": "markdown",
     "checksum": "5e5a5be9a728db93fe0cc30eb377db3c",
     "grade": false,
     "grade_id": "cell-4bd7c8eaa6b3513d",
     "locked": true,
     "schema_version": 3,
     "solution": false,
     "task": false
    }
   },
   "source": [
    "__Task:__ Plot the MAC matrix to gain overview.\n",
    "\n",
    "__Hint:__ You can plot matrices with `plt.matshow`. With the option `cmaps=` you can choose colormaps. Select one that is white at 0 and linearly increases in one colortone up until 1.\n",
    "\n",
    "__Hint:__ With `mpl_toolkits.axes_grid1.make_axes_locable`, `divider.append_axes` and `plt.colorbar` you can create a colorbar right next to the plot, which indicates the value related to a colortone.\n",
    "\n",
    "<img src='./figs/MAC_new.png' width='50%'>"
   ]
  },
  {
   "cell_type": "code",
   "execution_count": null,
   "metadata": {
    "deletable": false,
    "nbgrader": {
     "cell_type": "code",
     "checksum": "3e92da3bebdf99cf45790de2c0902c2a",
     "grade": false,
     "grade_id": "cell-7d6be977847141ba",
     "locked": false,
     "schema_version": 3,
     "solution": true,
     "task": false
    },
    "revert": "# colorful plot of the MAC matrix\n# YOUR CODE HERE\nraise NotImplementedError()"
   },
   "outputs": [],
   "source": [
    "# colorful plot of the MAC matrix\n",
    "# YOUR CODE HERE\n",
    "raise NotImplementedError()"
   ]
  },
  {
   "cell_type": "markdown",
   "metadata": {
    "deletable": false,
    "editable": false,
    "nbgrader": {
     "cell_type": "markdown",
     "checksum": "781189534a1cf61f29add81ef8751363",
     "grade": false,
     "grade_id": "cell-1d74ee9218897314",
     "locked": true,
     "schema_version": 3,
     "solution": false,
     "task": false
    }
   },
   "source": [
    "__Question:__ Does the analysis via MAC support your previous statement about which modes you have identified via peak-picking?"
   ]
  },
  {
   "cell_type": "markdown",
   "metadata": {
    "deletable": false,
    "nbgrader": {
     "cell_type": "markdown",
     "checksum": "925dc8742063106a71b0622110f495fa",
     "grade": true,
     "grade_id": "cell-bdedde2186c1f99d",
     "locked": false,
     "points": 0,
     "schema_version": 3,
     "solution": true,
     "task": false
    },
    "revert": "YOUR ANSWER HERE"
   },
   "source": [
    "YOUR ANSWER HERE"
   ]
  },
  {
   "cell_type": "markdown",
   "metadata": {
    "deletable": false,
    "editable": false,
    "nbgrader": {
     "cell_type": "markdown",
     "checksum": "5b585c859a9bd73a5a9fd0cd83da5b56",
     "grade": false,
     "grade_id": "cell-f559f2081e24c9b1",
     "locked": true,
     "schema_version": 3,
     "solution": false,
     "task": false
    }
   },
   "source": [
    "__Question:__ Why does the MAC show correlations with several modeshapes for one oscillation shape?"
   ]
  },
  {
   "cell_type": "markdown",
   "metadata": {
    "deletable": false,
    "nbgrader": {
     "cell_type": "markdown",
     "checksum": "d2f4367ed168b32f05aaf4220b023407",
     "grade": true,
     "grade_id": "cell-394d305525a61d40",
     "locked": false,
     "points": 0,
     "schema_version": 3,
     "solution": true,
     "task": false
    },
    "revert": "YOUR ANSWER HERE"
   },
   "source": [
    "YOUR ANSWER HERE"
   ]
  },
  {
   "cell_type": "markdown",
   "metadata": {
    "deletable": false,
    "editable": false,
    "nbgrader": {
     "cell_type": "markdown",
     "checksum": "64272d35e64af97f79fadb5736508e97",
     "grade": false,
     "grade_id": "cell-32195c6b06a9ac33",
     "locked": true,
     "schema_version": 3,
     "solution": false,
     "task": false
    }
   },
   "source": [
    "__Question:__ Discuss potential discrepancies between the oscillation shapes and the modeshapes. How does this affect the MAC?"
   ]
  },
  {
   "cell_type": "markdown",
   "metadata": {
    "deletable": false,
    "nbgrader": {
     "cell_type": "markdown",
     "checksum": "1b8ac3617ebeeac6948c589ffc3c5230",
     "grade": true,
     "grade_id": "cell-ff53944cbe025e98",
     "locked": false,
     "points": 0,
     "schema_version": 3,
     "solution": true,
     "task": false
    },
    "revert": "YOUR ANSWER HERE"
   },
   "source": [
    "YOUR ANSWER HERE"
   ]
  }
 ],
 "metadata": {
  "kernelspec": {
   "display_name": "Python 3",
   "language": "python",
   "name": "python3"
  },
  "language_info": {
   "codemirror_mode": {
    "name": "ipython",
    "version": 3
   },
   "file_extension": ".py",
   "mimetype": "text/x-python",
   "name": "python",
   "nbconvert_exporter": "python",
   "pygments_lexer": "ipython3",
   "version": "3.11.10"
  }
 },
 "nbformat": 4,
 "nbformat_minor": 4
}
